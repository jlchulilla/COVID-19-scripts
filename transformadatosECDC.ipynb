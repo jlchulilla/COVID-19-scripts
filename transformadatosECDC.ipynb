{
 "cells": [
  {
   "cell_type": "code",
   "execution_count": 24,
   "metadata": {},
   "outputs": [
    {
     "data": {
      "application/vnd.jupyter.widget-view+json": {
       "model_id": "f690ca1b609e4e39aa9d36b006d238cb",
       "version_major": 2,
       "version_minor": 0
      },
      "text/plain": [
       "Canvas(toolbar=Toolbar(toolitems=[('Home', 'Reset original view', 'home', 'home'), ('Back', 'Back to previous …"
      ]
     },
     "metadata": {},
     "output_type": "display_data"
    },
    {
     "data": {
      "application/vnd.jupyter.widget-view+json": {
       "model_id": "5f36e4cec31449d3a8e5fd3b333a7e07",
       "version_major": 2,
       "version_minor": 0
      },
      "text/plain": [
       "Canvas(toolbar=Toolbar(toolitems=[('Home', 'Reset original view', 'home', 'home'), ('Back', 'Back to previous …"
      ]
     },
     "metadata": {},
     "output_type": "display_data"
    },
    {
     "data": {
      "application/vnd.jupyter.widget-view+json": {
       "model_id": "74d485010af248c1a5ebef0d6b094bc9",
       "version_major": 2,
       "version_minor": 0
      },
      "text/plain": [
       "Canvas(toolbar=Toolbar(toolitems=[('Home', 'Reset original view', 'home', 'home'), ('Back', 'Back to previous …"
      ]
     },
     "metadata": {},
     "output_type": "display_data"
    },
    {
     "data": {
      "application/vnd.jupyter.widget-view+json": {
       "model_id": "cc387044dacf4ed380e37a9721632d0f",
       "version_major": 2,
       "version_minor": 0
      },
      "text/plain": [
       "Canvas(toolbar=Toolbar(toolitems=[('Home', 'Reset original view', 'home', 'home'), ('Back', 'Back to previous …"
      ]
     },
     "metadata": {},
     "output_type": "display_data"
    },
    {
     "data": {
      "application/vnd.jupyter.widget-view+json": {
       "model_id": "37e8531fd2944538a86e46761d916ef1",
       "version_major": 2,
       "version_minor": 0
      },
      "text/plain": [
       "Canvas(toolbar=Toolbar(toolitems=[('Home', 'Reset original view', 'home', 'home'), ('Back', 'Back to previous …"
      ]
     },
     "metadata": {},
     "output_type": "display_data"
    },
    {
     "data": {
      "text/plain": [
       "()"
      ]
     },
     "execution_count": 24,
     "metadata": {},
     "output_type": "execute_result"
    }
   ],
   "source": [
    "%matplotlib widget\n",
    "import pandas as pd\n",
    "import numpy as np\n",
    "import matplotlib.pyplot as plt\n",
    "from datetime import datetime\n",
    "\n",
    "#source = https://www.ecdc.europa.eu/en/publications-data/download-todays-data-geographic-distribution-covid-19-cases-worldwide\n",
    "\n",
    "def descargatablaecdc(url):\n",
    "    pd.options.mode.chained_assignment = None  # elimina aviso innecesario\n",
    "    hoy = datetime.today().strftime(\"%d%m%Y\")\n",
    "\n",
    "    mundo = pd.read_csv(url)\n",
    "    mundo.to_csv('ECDC' + hoy + '.csv')\n",
    "    \n",
    "    mundo['date'] = pd.to_datetime((mundo.year*10000+mundo.month*100+mundo.day).apply(str),format='%Y%m%d')\n",
    "    \n",
    "    \n",
    "\n",
    "    dt = mundo[['date','deaths','cases','countriesAndTerritories', 'popData2018']]\n",
    "    dt['DperHab'] = dt['deaths']/dt['popData2018']\n",
    "    \n",
    "\n",
    "    presalida = pd.pivot_table(dt.loc[(dt['countriesAndTerritories']=='Spain') | (dt['countriesAndTerritories']=='Italy') | (dt['countriesAndTerritories']=='Germany') | (dt['countriesAndTerritories']=='France') |  (dt['countriesAndTerritories']=='United_Kingdom') | (dt['countriesAndTerritories']=='Portugal') | (dt['countriesAndTerritories']=='Netherlands') | (dt['countriesAndTerritories']=='Iran') | (dt['countriesAndTerritories']=='China') | (dt['countriesAndTerritories']=='South_Korea')], index = ['date'], values=['deaths','cases','DperHab'], columns = 'countriesAndTerritories', aggfunc=np.sum, fill_value = 0)\n",
    "    precasos = pd.pivot_table(dt.loc[(dt['countriesAndTerritories']=='Spain') | (dt['countriesAndTerritories']=='Netherlands')| (dt['countriesAndTerritories']=='Italy') | (dt['countriesAndTerritories']=='France') ], index = ['date'], values=['cases'], columns = 'countriesAndTerritories', aggfunc=np.sum, fill_value = 0)\n",
    "    prefallec = pd.pivot_table(dt.loc[(dt['countriesAndTerritories']=='Spain') | (dt['countriesAndTerritories']=='Netherlands')| (dt['countriesAndTerritories']=='Italy') | (dt['countriesAndTerritories']=='France')], index = ['date'], values=['deaths'], columns = 'countriesAndTerritories', aggfunc=np.sum, fill_value = 0)\n",
    "    predxh = pd.pivot_table(dt.loc[(dt['countriesAndTerritories']=='Spain') | (dt['countriesAndTerritories']=='Netherlands')| (dt['countriesAndTerritories']=='Italy') | (dt['countriesAndTerritories']=='France')], index = ['date'], values=['DperHab'], columns = 'countriesAndTerritories', aggfunc=np.sum, fill_value = 0)\n",
    "    \n",
    "    salida = presalida.reindex(axis = 1, level = 1, labels = ['Spain','Italy','Germany','France','United_Kingdom','Portugal','Netherlands','Iran','China','South_Korea'])\n",
    "    casos = precasos.reindex(axis = 1, level = 1, labels = ['Spain','Italy','France','Netherlands'])\n",
    "    fallec = prefallec.reindex(axis = 1, level = 1, labels = ['Spain','Italy','France','Netherlands'])\n",
    "    dxhab = predxh.reindex(axis = 1, level = 1, labels = ['Spain','Italy','France','Netherlands'])\n",
    "    \n",
    "\n",
    "    fallecAggre = fallec.cumsum()\n",
    "    dxhabAggre = dxhab.cumsum()\n",
    "\n",
    "    salida.to_excel('ECDC' + hoy + '.xlsx')\n",
    "    salida.cumsum().to_excel('agregados_ECDC' + hoy + '.xlsx')\n",
    "\n",
    "    plt.rcParams[\"figure.figsize\"] = (8,5)\n",
    "    \n",
    "    casos.plot()\n",
    "    plt.ylabel('casos ');\n",
    "\n",
    "    fallec.plot()\n",
    "    plt.ylabel('fallecimientos ');\n",
    "    dxhab.plot()\n",
    "    plt.ylabel('fallecimientos / habitantes ');\n",
    "    \n",
    "    fallecAggre.plot()\n",
    "    plt.ylabel('Fallecimientos agregados');\n",
    "    dxhabAggre.plot()\n",
    "    plt.ylabel('fallecimientos / habitantes agregados');\n",
    "        \n",
    "    return()\n",
    "\n",
    "\n",
    "\n",
    "descargatablaecdc('https://opendata.ecdc.europa.eu/covid19/casedistribution/csv')\n",
    "\n"
   ]
  },
  {
   "cell_type": "code",
   "execution_count": null,
   "metadata": {},
   "outputs": [],
   "source": []
  }
 ],
 "metadata": {
  "kernelspec": {
   "display_name": "Python 3",
   "language": "python",
   "name": "python3"
  },
  "language_info": {
   "codemirror_mode": {
    "name": "ipython",
    "version": 3
   },
   "file_extension": ".py",
   "mimetype": "text/x-python",
   "name": "python",
   "nbconvert_exporter": "python",
   "pygments_lexer": "ipython3",
   "version": "3.6.7"
  }
 },
 "nbformat": 4,
 "nbformat_minor": 4
}
