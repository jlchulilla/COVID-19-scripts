{
 "cells": [
  {
   "cell_type": "code",
   "execution_count": null,
   "metadata": {},
   "outputs": [],
   "source": [
    "%matplotlib widget\n",
    "import pandas as pd\n",
    "import numpy as np\n",
    "import matplotlib.pyplot as plt\n",
    "from datetime import datetime"
   ]
  },
  {
   "cell_type": "code",
   "execution_count": null,
   "metadata": {},
   "outputs": [],
   "source": [
    "# if you want dynamic plots, start with %matplotlib widget\n",
    "\n",
    "#source = https://www.ecdc.europa.eu/en/publications-data/download-todays-data-geographic-distribution-covid-19-cases-worldwide"
   ]
  },
  {
   "cell_type": "code",
   "execution_count": null,
   "metadata": {},
   "outputs": [],
   "source": [
    "def descargatablaecdc(url):\n",
    "\n",
    "    hoy = datetime.today().strftime(\"%d%m%Y\")\n",
    "\n",
    "    mundo = pd.read_csv(url)\n",
    "    mundo.to_csv('ECDC' + hoy + '.csv')\n",
    "    \n",
    "    mundo['date'] = pd.to_datetime((mundo.year*10000+mundo.month*100+mundo.day).apply(str),format='%Y%m%d')\n",
    "\n",
    "    dt = mundo[['date','deaths','cases','countriesAndTerritories']]\n",
    "\n",
    "    presalida = pd.pivot_table(dt.loc[(dt['countriesAndTerritories']=='Spain') | (dt['countriesAndTerritories']=='Italy') | (dt['countriesAndTerritories']=='Germany') | (dt['countriesAndTerritories']=='France') |  (dt['countriesAndTerritories']=='United_Kingdom') | (dt['countriesAndTerritories']=='Portugal') | (dt['countriesAndTerritories']=='Netherlands') | (dt['countriesAndTerritories']=='Iran') | (dt['countriesAndTerritories']=='China') | (dt['countriesAndTerritories']=='South_Korea')], index = ['date'], values=['deaths','cases'], columns = 'countriesAndTerritories', aggfunc=np.sum, fill_value = 0)\n",
    "    precasosspait = pd.pivot_table(dt.loc[(dt['countriesAndTerritories']=='Spain') | (dt['countriesAndTerritories']=='Netherlands')| (dt['countriesAndTerritories']=='Italy') ], index = ['date'], values=['cases'], columns = 'countriesAndTerritories', aggfunc=np.sum, fill_value = 0)\n",
    "    prefallecspait= pd.pivot_table(dt.loc[(dt['countriesAndTerritories']=='Spain') | (dt['countriesAndTerritories']=='Netherlands')| (dt['countriesAndTerritories']=='Italy') ], index = ['date'], values=['deaths'], columns = 'countriesAndTerritories', aggfunc=np.sum, fill_value = 0)\n",
    "\n",
    "    salida = presalida.reindex(axis = 1, level = 1, labels = ['Spain','Italy','Germany','France','United_Kingdom','Portugal','Netherlands','Iran','China','South_Korea'])\n",
    "    casosspait = precasosspait.reindex(axis = 1, level = 1, labels = ['Spain','Italy','Netherlands'])\n",
    "    fallecspait = prefallecspait.reindex(axis = 1, level = 1, labels = ['Spain','Italy','Netherlands'])\n",
    "\n",
    "\n",
    "    salida.to_excel('ECDC' + hoy + '.xlsx')\n",
    "    \n",
    "    plt.rcParams[\"figure.figsize\"] = (8,5)\n",
    "    \n",
    "    casosspait.plot()#(xticks=casosspait.index)#(xticks='day')\n",
    "    plt.ylabel('casos España e Italia');\n",
    "    fallecspait.plot()\n",
    "    plt.ylabel('fallecimientos España e Italia');\n",
    "    return()\n",
    "\n",
    "\n",
    "\n",
    "descargatablaecdc('https://opendata.ecdc.europa.eu/covid19/casedistribution/csv')"
   ]
  }
 ],
 "metadata": {
  "kernelspec": {
   "display_name": "Python 3",
   "language": "python",
   "name": "python3"
  },
  "language_info": {
   "codemirror_mode": {
    "name": "ipython",
    "version": 3
   },
   "file_extension": ".py",
   "mimetype": "text/x-python",
   "name": "python",
   "nbconvert_exporter": "python",
   "pygments_lexer": "ipython3",
   "version": "3.7.6"
  }
 },
 "nbformat": 4,
 "nbformat_minor": 4
}
